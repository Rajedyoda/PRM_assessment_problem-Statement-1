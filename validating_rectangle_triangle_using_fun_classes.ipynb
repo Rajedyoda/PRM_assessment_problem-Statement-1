{
 "cells": [
  {
   "cell_type": "code",
   "execution_count": 6,
   "metadata": {},
   "outputs": [
    {
     "name": "stdout",
     "output_type": "stream",
     "text": [
      "Valid Triangle\n"
     ]
    }
   ],
   "source": [
    "def valid_triangle(side_1, side_2, side_3):\n",
    "     \n",
    "\n",
    "    if (side_1 + side_2 <= side_3) or (side_1 + side_3 <= side_2) or (side_2 + side_3 <= side_1) :\n",
    "        return False\n",
    "    else:\n",
    "        return True       \n",
    " \n",
    "\n",
    "side_1 = int(input(\"Enter the side 1: \"))\n",
    "side_2 = int(input(\"Enter the side 2: \"))\n",
    "side_3 = int(input(\"Enter the side 3: \"))\n",
    "if valid_triangle(side_1, side_2, side_3):\n",
    "    print(\"Valid Triangle\")\n",
    "else:\n",
    "    print(\"Invalid Triangle\")"
   ]
  },
  {
   "cell_type": "code",
   "execution_count": 12,
   "metadata": {},
   "outputs": [
    {
     "name": "stdout",
     "output_type": "stream",
     "text": [
      "Valid Rectangle\n"
     ]
    }
   ],
   "source": [
    "\n",
    "def Validate_Rectangle(rside_1, rside_2, rside_3, rside_4):\n",
    " \n",
    "\n",
    "    if (rside_1 == rside_2 and rside_4 == rside_3) or (rside_1 == rside_3 and rside_2 == rside_4) or (rside_1 == rside_4 and rside_2 == rside_3):\n",
    "        return True\n",
    "    else:\n",
    "        return False\n",
    " \n",
    " \n",
    "# Driver code\n",
    "rside_1 = int(input(\"Enter the rside 1: \"))\n",
    "rside_2 = int(input(\"Enter the rside 2: \"))\n",
    "rside_3 = int(input(\"Enter the rside 3: \"))\n",
    "rside_4 = int(input(\"Enter the rside 4: \"))\n",
    "print(\"Valid Rectangle\" if Validate_Rectangle(rside_1, rside_2, rside_3, rside_4) else \"Invalid Rectangle\")\n",
    " \n"
   ]
  }
 ],
 "metadata": {
  "kernelspec": {
   "display_name": "Python 3",
   "language": "python",
   "name": "python3"
  },
  "language_info": {
   "codemirror_mode": {
    "name": "ipython",
    "version": 3
   },
   "file_extension": ".py",
   "mimetype": "text/x-python",
   "name": "python",
   "nbconvert_exporter": "python",
   "pygments_lexer": "ipython3",
   "version": "3.10.4"
  },
  "orig_nbformat": 4,
  "vscode": {
   "interpreter": {
    "hash": "5ceaf0fed632d95dc27150b9575d61e48f567687c64810253d882c031236c873"
   }
  }
 },
 "nbformat": 4,
 "nbformat_minor": 2
}

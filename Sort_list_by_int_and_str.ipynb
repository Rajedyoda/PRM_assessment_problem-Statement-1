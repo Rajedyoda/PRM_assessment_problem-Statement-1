{
 "cells": [
  {
   "cell_type": "code",
   "execution_count": 9,
   "metadata": {},
   "outputs": [
    {
     "name": "stdout",
     "output_type": "stream",
     "text": [
      "Number of elements in the list: 6 and Sorted list second last element in given string:  ['great', 'abc', 'hello', 'hiyo']\n"
     ]
    }
   ],
   "source": [
    "input_int = list(map(int, input(\"Enter the list of integer with space: \").split()))\n",
    "\n",
    "input_str = input(\"Enter list of string to sorted from second last element with comma:\")\n",
    "input_str = input_str.split(\",\")\n",
    "input_str.sort(key=lambda x: x[-2])\n",
    "\n",
    "print(\"Number of elements in the list: {} and Sorted list second last element in given string:  {}\".format(len(input_int),input_str))"
   ]
  }
 ],
 "metadata": {
  "kernelspec": {
   "display_name": "Python 3",
   "language": "python",
   "name": "python3"
  },
  "language_info": {
   "codemirror_mode": {
    "name": "ipython",
    "version": 3
   },
   "file_extension": ".py",
   "mimetype": "text/x-python",
   "name": "python",
   "nbconvert_exporter": "python",
   "pygments_lexer": "ipython3",
   "version": "3.10.4"
  },
  "orig_nbformat": 4,
  "vscode": {
   "interpreter": {
    "hash": "5ceaf0fed632d95dc27150b9575d61e48f567687c64810253d882c031236c873"
   }
  }
 },
 "nbformat": 4,
 "nbformat_minor": 2
}
